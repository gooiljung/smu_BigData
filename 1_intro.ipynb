{
 "cells": [
  {
   "cell_type": "markdown",
   "metadata": {},
   "source": [
    "# 1.데이터 사이언스\n",
    "\n",
    "## 1.2 데이터 수집\n",
    "\n",
    "* 데이터절차\n",
    "    * 문제정의\n",
    "    * 데이터수집"
   ]
  },
  {
   "cell_type": "code",
   "execution_count": 10,
   "metadata": {},
   "outputs": [
    {
     "name": "stdout",
     "output_type": "stream",
     "text": [
      "가격 2\n",
      "머리카락 2\n",
      "맛 2\n",
      "스타벅스 3\n",
      "몰라 2\n"
     ]
    }
   ],
   "source": [
    "sent = u\"\"\"진동벨  만들었으면 좋겠다 2층 매장이라  손님 어딨는지는 몰라  열심히 목터져가며 소리 전부  안쓰럽다 그리고 픽업 장소 옆은 시장통임 북적북적\n",
    "옆 동네 스타벅스 왔다  노트북 들고\n",
    "스타벅스 있다가 나오면 머리카락 커피향기 배는데 안에  모르겠다가 밖에 나와서 머리카락 흔들릴 느껴지는 좋아\n",
    "저도 커피 마시고 싶어여  로스팅 전문  가서 마시구 싶고 그러네요  어떤데 있는질 몰라 합정 상수 부근  찾아볼가여?\n",
    " 스타벅스 비싸다 인식  카페 가격 다 똑같은\n",
    " 섬세한 입맛  가격 맛 찾아낼 수 있을지는 의문 평범한곳 가도 갠찬아여  맛 없는  아니라면\"\"\" \n",
    "\n",
    "d = dict()\n",
    "\n",
    "for c in sent.split():\n",
    "    if c not in d:\n",
    "        d[c] = 1\n",
    "    else:\n",
    "        d[c] = d[c] + 1\n",
    "\n",
    "for key, value in d.iteritems():\n",
    "    if value > 1:\n",
    "        print key, value\n",
    "\n",
    "    \n"
   ]
  },
  {
   "cell_type": "code",
   "execution_count": null,
   "metadata": {},
   "outputs": [],
   "source": []
  }
 ],
 "metadata": {
  "kernelspec": {
   "display_name": "Python 2",
   "language": "python",
   "name": "python2"
  },
  "language_info": {
   "codemirror_mode": {
    "name": "ipython",
    "version": 2
   },
   "file_extension": ".py",
   "mimetype": "text/x-python",
   "name": "python",
   "nbconvert_exporter": "python",
   "pygments_lexer": "ipython2",
   "version": "2.7.9"
  }
 },
 "nbformat": 4,
 "nbformat_minor": 2
}
