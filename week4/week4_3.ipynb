{
 "cells": [
  {
   "cell_type": "code",
   "execution_count": 3,
   "metadata": {},
   "outputs": [
    {
     "name": "stdout",
     "output_type": "stream",
     "text": [
      "Writing ds2_2_searchGoogle.py\n"
     ]
    }
   ],
   "source": [
    "%%writefile ds2_2_searchGoogle.py\n",
    "#!\n",
    "\n",
    "import requests\n",
    "import os\n",
    "import webbrowser\n",
    "\n",
    "def searchGoogle():\n",
    "    url = 'http://www.google.com/'\n",
    "    query={'q':'python'}\n",
    "    headers = {'User-Agent' : \"Mozilla/5.0 (Macintosh; Intel Mac OS X 10_12_6) AppleWebKit/537.36 (KHTML, like Gecko) Chrome/64.0.3282.186 Safari/537.36\"}\n",
    "    try:\n",
    "\tr=requests.get(url,params=query,headers=headers)\n",
    "    except requests.exceptions.HTTPError as e:\n",
    "        print e\n",
    "        sys.exit(1)\n",
    "    page=r.text\n",
    "    print \"length: \",len(page)\n",
    "    # write page\n",
    "    fileName=os.path.join(os.getcwd(),'mygoogle.html')\n",
    "    f=open(fileName,'w')\n",
    "    f.write(page)\n",
    "    f.close()\n",
    "    # open page\n",
    "    mygoogle='file://'+'localhost'+fileName\n",
    "    print \"opening \",mygoogle\n",
    "    #webbrowser.open(mygoogle)\n",
    "\n",
    "def main():\n",
    "    searchGoogle()\n",
    "\n",
    "if __name__==\"__main__\":\n",
    "    main()"
   ]
  },
  {
   "cell_type": "code",
   "execution_count": null,
   "metadata": {},
   "outputs": [],
   "source": []
  }
 ],
 "metadata": {
  "kernelspec": {
   "display_name": "Python 2",
   "language": "python",
   "name": "python2"
  },
  "language_info": {
   "codemirror_mode": {
    "name": "ipython",
    "version": 2
   },
   "file_extension": ".py",
   "mimetype": "text/x-python",
   "name": "python",
   "nbconvert_exporter": "python",
   "pygments_lexer": "ipython2",
   "version": "2.7.9"
  }
 },
 "nbformat": 4,
 "nbformat_minor": 2
}
